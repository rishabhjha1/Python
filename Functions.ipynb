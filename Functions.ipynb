{
 "cells": [
  {
   "cell_type": "code",
   "execution_count": 1,
   "id": "8dae2e2c",
   "metadata": {},
   "outputs": [],
   "source": [
    "#function returning values\n",
    "def average(a,b):\n",
    "    c = (a+b)/2\n",
    "    return c"
   ]
  },
  {
   "cell_type": "code",
   "execution_count": 2,
   "id": "17a870a9",
   "metadata": {},
   "outputs": [
    {
     "data": {
      "text/plain": [
       "11.0"
      ]
     },
     "execution_count": 2,
     "metadata": {},
     "output_type": "execute_result"
    }
   ],
   "source": [
    "#Calling the functions with parameters\n",
    "average(10,12)"
   ]
  },
  {
   "cell_type": "code",
   "execution_count": 4,
   "id": "ba9fa6cd",
   "metadata": {},
   "outputs": [],
   "source": [
    "#storing the value in variable\n",
    "d = average(10,22)"
   ]
  },
  {
   "cell_type": "code",
   "execution_count": 5,
   "id": "a87742d5",
   "metadata": {},
   "outputs": [
    {
     "name": "stdout",
     "output_type": "stream",
     "text": [
      "16.0\n"
     ]
    }
   ],
   "source": [
    "print(d)"
   ]
  },
  {
   "cell_type": "code",
   "execution_count": 6,
   "id": "d6d7bffc",
   "metadata": {},
   "outputs": [],
   "source": [
    "def addss(a,b):\n",
    "    add = a+b\n",
    "    sub = a-b\n",
    "    return add, sub"
   ]
  },
  {
   "cell_type": "code",
   "execution_count": 7,
   "id": "4329bc07",
   "metadata": {},
   "outputs": [],
   "source": [
    "e,f = addss(89,67)"
   ]
  },
  {
   "cell_type": "code",
   "execution_count": 8,
   "id": "d9bbf4a8",
   "metadata": {},
   "outputs": [
    {
     "name": "stdout",
     "output_type": "stream",
     "text": [
      "156\n"
     ]
    }
   ],
   "source": [
    "print(e)"
   ]
  },
  {
   "cell_type": "code",
   "execution_count": 9,
   "id": "2b36503e",
   "metadata": {},
   "outputs": [
    {
     "name": "stdout",
     "output_type": "stream",
     "text": [
      "22\n"
     ]
    }
   ],
   "source": [
    "print(f)"
   ]
  },
  {
   "cell_type": "markdown",
   "id": "d0608b7d",
   "metadata": {},
   "source": [
    "# Random Module "
   ]
  },
  {
   "cell_type": "code",
   "execution_count": 10,
   "id": "ea8c714c",
   "metadata": {},
   "outputs": [],
   "source": [
    "import random"
   ]
  },
  {
   "cell_type": "code",
   "execution_count": 13,
   "id": "ae7e21e4",
   "metadata": {},
   "outputs": [],
   "source": [
    "a = random.randint(1,34)"
   ]
  },
  {
   "cell_type": "code",
   "execution_count": 14,
   "id": "e0a1aee6",
   "metadata": {},
   "outputs": [
    {
     "data": {
      "text/plain": [
       "25"
      ]
     },
     "execution_count": 14,
     "metadata": {},
     "output_type": "execute_result"
    }
   ],
   "source": [
    "a"
   ]
  },
  {
   "cell_type": "code",
   "execution_count": 16,
   "id": "2544fb05",
   "metadata": {},
   "outputs": [],
   "source": [
    "a = random.randint(1,100)"
   ]
  },
  {
   "cell_type": "code",
   "execution_count": 17,
   "id": "1632f650",
   "metadata": {},
   "outputs": [
    {
     "data": {
      "text/plain": [
       "27"
      ]
     },
     "execution_count": 17,
     "metadata": {},
     "output_type": "execute_result"
    }
   ],
   "source": [
    "a"
   ]
  },
  {
   "cell_type": "code",
   "execution_count": 20,
   "id": "bbd504af",
   "metadata": {},
   "outputs": [],
   "source": [
    "b = random.randrange(12,34)"
   ]
  },
  {
   "cell_type": "code",
   "execution_count": 21,
   "id": "1659fb34",
   "metadata": {},
   "outputs": [
    {
     "data": {
      "text/plain": [
       "25"
      ]
     },
     "execution_count": 21,
     "metadata": {},
     "output_type": "execute_result"
    }
   ],
   "source": [
    "b"
   ]
  },
  {
   "cell_type": "code",
   "execution_count": 26,
   "id": "083fb315",
   "metadata": {},
   "outputs": [],
   "source": [
    "#float between 0.0 to 1.0\n",
    "c = random.random()"
   ]
  },
  {
   "cell_type": "code",
   "execution_count": 27,
   "id": "e4a94e3c",
   "metadata": {},
   "outputs": [
    {
     "data": {
      "text/plain": [
       "0.8507101926333986"
      ]
     },
     "execution_count": 27,
     "metadata": {},
     "output_type": "execute_result"
    }
   ],
   "source": [
    "c"
   ]
  },
  {
   "cell_type": "code",
   "execution_count": 28,
   "id": "c3bac30d",
   "metadata": {},
   "outputs": [],
   "source": [
    "d = random.uniform(1.2,2.99)"
   ]
  },
  {
   "cell_type": "code",
   "execution_count": 29,
   "id": "a031bed5",
   "metadata": {},
   "outputs": [
    {
     "data": {
      "text/plain": [
       "2.5086324869315555"
      ]
     },
     "execution_count": 29,
     "metadata": {},
     "output_type": "execute_result"
    }
   ],
   "source": [
    "d"
   ]
  },
  {
   "cell_type": "code",
   "execution_count": 33,
   "id": "049463b5",
   "metadata": {},
   "outputs": [],
   "source": [
    "e = random.seed(4)"
   ]
  },
  {
   "cell_type": "code",
   "execution_count": 34,
   "id": "1e58f808",
   "metadata": {},
   "outputs": [
    {
     "name": "stdout",
     "output_type": "stream",
     "text": [
      "None\n"
     ]
    }
   ],
   "source": [
    "print(e)"
   ]
  },
  {
   "cell_type": "code",
   "execution_count": 35,
   "id": "d937af56",
   "metadata": {},
   "outputs": [],
   "source": [
    "import math\n",
    "r =6\n",
    "circle = 2* math.pi * r"
   ]
  },
  {
   "cell_type": "code",
   "execution_count": null,
   "id": "cd58d2bb",
   "metadata": {},
   "outputs": [],
   "source": [
    "circle"
   ]
  }
 ],
 "metadata": {
  "kernelspec": {
   "display_name": "Python 3 (ipykernel)",
   "language": "python",
   "name": "python3"
  },
  "language_info": {
   "codemirror_mode": {
    "name": "ipython",
    "version": 3
   },
   "file_extension": ".py",
   "mimetype": "text/x-python",
   "name": "python",
   "nbconvert_exporter": "python",
   "pygments_lexer": "ipython3",
   "version": "3.11.5"
  }
 },
 "nbformat": 4,
 "nbformat_minor": 5
}
